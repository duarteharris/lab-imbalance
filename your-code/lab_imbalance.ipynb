{
 "cells": [
  {
   "cell_type": "markdown",
   "metadata": {},
   "source": [
    "# Inbalanced Classes\n",
    "## In this lab, we are going to explore a case of imbalanced classes. \n",
    "\n",
    "\n",
    "Like we disussed in class, when we have noisy data, if we are not careful, we can end up fitting our model to the noise in the data and not the 'signal'-- the factors that actually determine the outcome. This is called overfitting, and results in good results in training, and in bad results when the model is applied to real data. Similarly, we could have a model that is too simplistic to accurately model the signal. This produces a model that doesnt work well (ever). \n"
   ]
  },
  {
   "cell_type": "markdown",
   "metadata": {},
   "source": [
    "### Note: before doing the first commit, make sure you don't include the large csv file, either by adding it to .gitignore, or by deleting it."
   ]
  },
  {
   "cell_type": "markdown",
   "metadata": {},
   "source": [
    "### First, download the data from: https://www.kaggle.com/ntnu-testimon/paysim1. Import the dataset and provide some discriptive statistics and plots. What do you think will be the important features in determining the outcome?\n",
    "### Note: don't use the entire dataset, use a sample instead, with n=100000 elements, so your computer doesn't freeze."
   ]
  },
  {
   "cell_type": "code",
   "execution_count": 1,
   "metadata": {},
   "outputs": [
    {
     "name": "stdout",
     "output_type": "stream",
     "text": [
      "The Zen of Python, by Tim Peters\n",
      "\n",
      "Beautiful is better than ugly.\n",
      "Explicit is better than implicit.\n",
      "Simple is better than complex.\n",
      "Complex is better than complicated.\n",
      "Flat is better than nested.\n",
      "Sparse is better than dense.\n",
      "Readability counts.\n",
      "Special cases aren't special enough to break the rules.\n",
      "Although practicality beats purity.\n",
      "Errors should never pass silently.\n",
      "Unless explicitly silenced.\n",
      "In the face of ambiguity, refuse the temptation to guess.\n",
      "There should be one-- and preferably only one --obvious way to do it.\n",
      "Although that way may not be obvious at first unless you're Dutch.\n",
      "Now is better than never.\n",
      "Although never is often better than *right* now.\n",
      "If the implementation is hard to explain, it's a bad idea.\n",
      "If the implementation is easy to explain, it may be a good idea.\n",
      "Namespaces are one honking great idea -- let's do more of those!\n"
     ]
    }
   ],
   "source": [
    "# Your code here\n",
    "# libraries\n",
    "import itertools\n",
    "import matplotlib.pyplot as plt\n",
    "import numpy as np\n",
    "import os\n",
    "import pandas as pd\n",
    "import seaborn as sns\n",
    "import sklearn\n",
    "import this"
   ]
  },
  {
   "cell_type": "code",
   "execution_count": 2,
   "metadata": {},
   "outputs": [],
   "source": [
    "# display for notebooks\n",
    "%matplotlib inline"
   ]
  },
  {
   "cell_type": "code",
   "execution_count": 3,
   "metadata": {},
   "outputs": [
    {
     "name": "stdout",
     "output_type": "stream",
     "text": [
      "CPU times: user 9.94 s, sys: 722 ms, total: 10.7 s\n",
      "Wall time: 10.9 s\n"
     ]
    }
   ],
   "source": [
    "%%time\n",
    "fraud = pd.read_csv(\"PS_20174392719_1491204439457_log.csv\").sample(100000)"
   ]
  },
  {
   "cell_type": "code",
   "execution_count": 4,
   "metadata": {},
   "outputs": [
    {
     "data": {
      "text/plain": [
       "(100000, 11)"
      ]
     },
     "execution_count": 4,
     "metadata": {},
     "output_type": "execute_result"
    }
   ],
   "source": [
    "# checking size of df\n",
    "fraud.shape"
   ]
  },
  {
   "cell_type": "code",
   "execution_count": 5,
   "metadata": {},
   "outputs": [
    {
     "data": {
      "text/html": [
       "<div>\n",
       "<style scoped>\n",
       "    .dataframe tbody tr th:only-of-type {\n",
       "        vertical-align: middle;\n",
       "    }\n",
       "\n",
       "    .dataframe tbody tr th {\n",
       "        vertical-align: top;\n",
       "    }\n",
       "\n",
       "    .dataframe thead th {\n",
       "        text-align: right;\n",
       "    }\n",
       "</style>\n",
       "<table border=\"1\" class=\"dataframe\">\n",
       "  <thead>\n",
       "    <tr style=\"text-align: right;\">\n",
       "      <th></th>\n",
       "      <th>step</th>\n",
       "      <th>type</th>\n",
       "      <th>amount</th>\n",
       "      <th>nameOrig</th>\n",
       "      <th>oldbalanceOrg</th>\n",
       "      <th>newbalanceOrig</th>\n",
       "      <th>nameDest</th>\n",
       "      <th>oldbalanceDest</th>\n",
       "      <th>newbalanceDest</th>\n",
       "      <th>isFraud</th>\n",
       "      <th>isFlaggedFraud</th>\n",
       "    </tr>\n",
       "  </thead>\n",
       "  <tbody>\n",
       "    <tr>\n",
       "      <th>4534121</th>\n",
       "      <td>326</td>\n",
       "      <td>TRANSFER</td>\n",
       "      <td>596321.71</td>\n",
       "      <td>C571655898</td>\n",
       "      <td>5037.0</td>\n",
       "      <td>0.00</td>\n",
       "      <td>C2145542283</td>\n",
       "      <td>1280745.66</td>\n",
       "      <td>1877067.37</td>\n",
       "      <td>0</td>\n",
       "      <td>0</td>\n",
       "    </tr>\n",
       "    <tr>\n",
       "      <th>549344</th>\n",
       "      <td>21</td>\n",
       "      <td>CASH_IN</td>\n",
       "      <td>17975.81</td>\n",
       "      <td>C378407368</td>\n",
       "      <td>964.0</td>\n",
       "      <td>18939.81</td>\n",
       "      <td>C391683289</td>\n",
       "      <td>4229953.59</td>\n",
       "      <td>4319477.72</td>\n",
       "      <td>0</td>\n",
       "      <td>0</td>\n",
       "    </tr>\n",
       "    <tr>\n",
       "      <th>4623492</th>\n",
       "      <td>329</td>\n",
       "      <td>TRANSFER</td>\n",
       "      <td>182593.29</td>\n",
       "      <td>C626953582</td>\n",
       "      <td>0.0</td>\n",
       "      <td>0.00</td>\n",
       "      <td>C1164664372</td>\n",
       "      <td>1262092.04</td>\n",
       "      <td>1444685.33</td>\n",
       "      <td>0</td>\n",
       "      <td>0</td>\n",
       "    </tr>\n",
       "    <tr>\n",
       "      <th>3212675</th>\n",
       "      <td>249</td>\n",
       "      <td>PAYMENT</td>\n",
       "      <td>999.49</td>\n",
       "      <td>C1702163873</td>\n",
       "      <td>82079.0</td>\n",
       "      <td>81079.51</td>\n",
       "      <td>M2023198334</td>\n",
       "      <td>0.00</td>\n",
       "      <td>0.00</td>\n",
       "      <td>0</td>\n",
       "      <td>0</td>\n",
       "    </tr>\n",
       "    <tr>\n",
       "      <th>5246711</th>\n",
       "      <td>371</td>\n",
       "      <td>CASH_OUT</td>\n",
       "      <td>699364.93</td>\n",
       "      <td>C249418747</td>\n",
       "      <td>0.0</td>\n",
       "      <td>0.00</td>\n",
       "      <td>C1045972602</td>\n",
       "      <td>1122916.26</td>\n",
       "      <td>1822281.19</td>\n",
       "      <td>0</td>\n",
       "      <td>0</td>\n",
       "    </tr>\n",
       "  </tbody>\n",
       "</table>\n",
       "</div>"
      ],
      "text/plain": [
       "         step      type     amount     nameOrig  oldbalanceOrg  \\\n",
       "4534121   326  TRANSFER  596321.71   C571655898         5037.0   \n",
       "549344     21   CASH_IN   17975.81   C378407368          964.0   \n",
       "4623492   329  TRANSFER  182593.29   C626953582            0.0   \n",
       "3212675   249   PAYMENT     999.49  C1702163873        82079.0   \n",
       "5246711   371  CASH_OUT  699364.93   C249418747            0.0   \n",
       "\n",
       "         newbalanceOrig     nameDest  oldbalanceDest  newbalanceDest  isFraud  \\\n",
       "4534121            0.00  C2145542283      1280745.66      1877067.37        0   \n",
       "549344         18939.81   C391683289      4229953.59      4319477.72        0   \n",
       "4623492            0.00  C1164664372      1262092.04      1444685.33        0   \n",
       "3212675        81079.51  M2023198334            0.00            0.00        0   \n",
       "5246711            0.00  C1045972602      1122916.26      1822281.19        0   \n",
       "\n",
       "         isFlaggedFraud  \n",
       "4534121               0  \n",
       "549344                0  \n",
       "4623492               0  \n",
       "3212675               0  \n",
       "5246711               0  "
      ]
     },
     "execution_count": 5,
     "metadata": {},
     "output_type": "execute_result"
    }
   ],
   "source": [
    "# checking head and tail\n",
    "fraud.head()\n",
    "fraud.tail()"
   ]
  },
  {
   "cell_type": "code",
   "execution_count": 6,
   "metadata": {},
   "outputs": [
    {
     "data": {
      "text/plain": [
       "step                int64\n",
       "type               object\n",
       "amount            float64\n",
       "nameOrig           object\n",
       "oldbalanceOrg     float64\n",
       "newbalanceOrig    float64\n",
       "nameDest           object\n",
       "oldbalanceDest    float64\n",
       "newbalanceDest    float64\n",
       "isFraud             int64\n",
       "isFlaggedFraud      int64\n",
       "dtype: object"
      ]
     },
     "execution_count": 6,
     "metadata": {},
     "output_type": "execute_result"
    }
   ],
   "source": [
    "# checking types\n",
    "fraud.dtypes"
   ]
  },
  {
   "cell_type": "code",
   "execution_count": 7,
   "metadata": {},
   "outputs": [
    {
     "data": {
      "text/plain": [
       "array(['CASH_IN', 'PAYMENT', 'CASH_OUT', 'TRANSFER', 'DEBIT'],\n",
       "      dtype=object)"
      ]
     },
     "execution_count": 7,
     "metadata": {},
     "output_type": "execute_result"
    }
   ],
   "source": [
    "# checking the amount of unique values in the columns w/dtype object\n",
    "len(fraud[\"type\"].unique()) # only 5\n",
    "fraud[\"type\"].unique()"
   ]
  },
  {
   "cell_type": "code",
   "execution_count": 8,
   "metadata": {},
   "outputs": [
    {
     "data": {
      "text/plain": [
       "100000"
      ]
     },
     "execution_count": 8,
     "metadata": {},
     "output_type": "execute_result"
    }
   ],
   "source": [
    "len(fraud[\"nameOrig\"].unique()) # from 6 353 307 to 100 000"
   ]
  },
  {
   "cell_type": "code",
   "execution_count": 9,
   "metadata": {},
   "outputs": [
    {
     "data": {
      "text/plain": [
       "92803"
      ]
     },
     "execution_count": 9,
     "metadata": {},
     "output_type": "execute_result"
    }
   ],
   "source": [
    "len(fraud[\"nameDest\"].unique()) # from 2 722 362 to 92 803"
   ]
  },
  {
   "cell_type": "code",
   "execution_count": 10,
   "metadata": {},
   "outputs": [
    {
     "data": {
      "text/html": [
       "<div>\n",
       "<style scoped>\n",
       "    .dataframe tbody tr th:only-of-type {\n",
       "        vertical-align: middle;\n",
       "    }\n",
       "\n",
       "    .dataframe tbody tr th {\n",
       "        vertical-align: top;\n",
       "    }\n",
       "\n",
       "    .dataframe thead th {\n",
       "        text-align: right;\n",
       "    }\n",
       "</style>\n",
       "<table border=\"1\" class=\"dataframe\">\n",
       "  <thead>\n",
       "    <tr style=\"text-align: right;\">\n",
       "      <th></th>\n",
       "      <th>step</th>\n",
       "      <th>amount</th>\n",
       "      <th>oldbalanceOrg</th>\n",
       "      <th>newbalanceOrig</th>\n",
       "      <th>oldbalanceDest</th>\n",
       "      <th>newbalanceDest</th>\n",
       "      <th>isFraud</th>\n",
       "      <th>isFlaggedFraud</th>\n",
       "    </tr>\n",
       "  </thead>\n",
       "  <tbody>\n",
       "    <tr>\n",
       "      <th>count</th>\n",
       "      <td>100000.00</td>\n",
       "      <td>100000.00</td>\n",
       "      <td>100000.00</td>\n",
       "      <td>100000.00</td>\n",
       "      <td>1.000000e+05</td>\n",
       "      <td>1.000000e+05</td>\n",
       "      <td>100000.00</td>\n",
       "      <td>100000.0</td>\n",
       "    </tr>\n",
       "    <tr>\n",
       "      <th>mean</th>\n",
       "      <td>242.52</td>\n",
       "      <td>180367.60</td>\n",
       "      <td>829521.58</td>\n",
       "      <td>850774.04</td>\n",
       "      <td>1.105908e+06</td>\n",
       "      <td>1.230395e+06</td>\n",
       "      <td>0.00</td>\n",
       "      <td>0.0</td>\n",
       "    </tr>\n",
       "    <tr>\n",
       "      <th>std</th>\n",
       "      <td>142.00</td>\n",
       "      <td>636198.70</td>\n",
       "      <td>2886822.00</td>\n",
       "      <td>2922434.23</td>\n",
       "      <td>3.384305e+06</td>\n",
       "      <td>3.703605e+06</td>\n",
       "      <td>0.04</td>\n",
       "      <td>0.0</td>\n",
       "    </tr>\n",
       "    <tr>\n",
       "      <th>min</th>\n",
       "      <td>1.00</td>\n",
       "      <td>0.00</td>\n",
       "      <td>0.00</td>\n",
       "      <td>0.00</td>\n",
       "      <td>0.000000e+00</td>\n",
       "      <td>0.000000e+00</td>\n",
       "      <td>0.00</td>\n",
       "      <td>0.0</td>\n",
       "    </tr>\n",
       "    <tr>\n",
       "      <th>25%</th>\n",
       "      <td>155.00</td>\n",
       "      <td>13404.68</td>\n",
       "      <td>0.00</td>\n",
       "      <td>0.00</td>\n",
       "      <td>0.000000e+00</td>\n",
       "      <td>0.000000e+00</td>\n",
       "      <td>0.00</td>\n",
       "      <td>0.0</td>\n",
       "    </tr>\n",
       "    <tr>\n",
       "      <th>50%</th>\n",
       "      <td>237.00</td>\n",
       "      <td>76184.28</td>\n",
       "      <td>14129.50</td>\n",
       "      <td>0.00</td>\n",
       "      <td>1.369925e+05</td>\n",
       "      <td>2.209592e+05</td>\n",
       "      <td>0.00</td>\n",
       "      <td>0.0</td>\n",
       "    </tr>\n",
       "    <tr>\n",
       "      <th>75%</th>\n",
       "      <td>333.00</td>\n",
       "      <td>208908.46</td>\n",
       "      <td>106789.25</td>\n",
       "      <td>142362.08</td>\n",
       "      <td>9.537002e+05</td>\n",
       "      <td>1.116171e+06</td>\n",
       "      <td>0.00</td>\n",
       "      <td>0.0</td>\n",
       "    </tr>\n",
       "    <tr>\n",
       "      <th>max</th>\n",
       "      <td>742.00</td>\n",
       "      <td>47288336.09</td>\n",
       "      <td>37670038.08</td>\n",
       "      <td>33804623.06</td>\n",
       "      <td>3.279981e+08</td>\n",
       "      <td>3.284317e+08</td>\n",
       "      <td>1.00</td>\n",
       "      <td>1.0</td>\n",
       "    </tr>\n",
       "  </tbody>\n",
       "</table>\n",
       "</div>"
      ],
      "text/plain": [
       "            step       amount  oldbalanceOrg  newbalanceOrig  oldbalanceDest  \\\n",
       "count  100000.00    100000.00      100000.00       100000.00    1.000000e+05   \n",
       "mean      242.52    180367.60      829521.58       850774.04    1.105908e+06   \n",
       "std       142.00    636198.70     2886822.00      2922434.23    3.384305e+06   \n",
       "min         1.00         0.00           0.00            0.00    0.000000e+00   \n",
       "25%       155.00     13404.68           0.00            0.00    0.000000e+00   \n",
       "50%       237.00     76184.28       14129.50            0.00    1.369925e+05   \n",
       "75%       333.00    208908.46      106789.25       142362.08    9.537002e+05   \n",
       "max       742.00  47288336.09    37670038.08     33804623.06    3.279981e+08   \n",
       "\n",
       "       newbalanceDest    isFraud  isFlaggedFraud  \n",
       "count    1.000000e+05  100000.00        100000.0  \n",
       "mean     1.230395e+06       0.00             0.0  \n",
       "std      3.703605e+06       0.04             0.0  \n",
       "min      0.000000e+00       0.00             0.0  \n",
       "25%      0.000000e+00       0.00             0.0  \n",
       "50%      2.209592e+05       0.00             0.0  \n",
       "75%      1.116171e+06       0.00             0.0  \n",
       "max      3.284317e+08       1.00             1.0  "
      ]
     },
     "execution_count": 10,
     "metadata": {},
     "output_type": "execute_result"
    }
   ],
   "source": [
    "# checking descriptive statistics\n",
    "round(fraud.describe(), 2)"
   ]
  },
  {
   "cell_type": "code",
   "execution_count": 11,
   "metadata": {},
   "outputs": [
    {
     "data": {
      "text/plain": [
       "step              0\n",
       "type              0\n",
       "amount            0\n",
       "nameOrig          0\n",
       "oldbalanceOrg     0\n",
       "newbalanceOrig    0\n",
       "nameDest          0\n",
       "oldbalanceDest    0\n",
       "newbalanceDest    0\n",
       "isFraud           0\n",
       "isFlaggedFraud    0\n",
       "dtype: int64"
      ]
     },
     "execution_count": 11,
     "metadata": {},
     "output_type": "execute_result"
    }
   ],
   "source": [
    "# checking NaN's\n",
    "fraud.isna().sum()"
   ]
  },
  {
   "cell_type": "code",
   "execution_count": 12,
   "metadata": {},
   "outputs": [
    {
     "data": {
      "text/html": [
       "<div>\n",
       "<style scoped>\n",
       "    .dataframe tbody tr th:only-of-type {\n",
       "        vertical-align: middle;\n",
       "    }\n",
       "\n",
       "    .dataframe tbody tr th {\n",
       "        vertical-align: top;\n",
       "    }\n",
       "\n",
       "    .dataframe thead th {\n",
       "        text-align: right;\n",
       "    }\n",
       "</style>\n",
       "<table border=\"1\" class=\"dataframe\">\n",
       "  <thead>\n",
       "    <tr style=\"text-align: right;\">\n",
       "      <th></th>\n",
       "      <th>step</th>\n",
       "      <th>amount</th>\n",
       "      <th>oldbalanceOrg</th>\n",
       "      <th>newbalanceOrig</th>\n",
       "      <th>oldbalanceDest</th>\n",
       "      <th>newbalanceDest</th>\n",
       "      <th>isFraud</th>\n",
       "      <th>isFlaggedFraud</th>\n",
       "    </tr>\n",
       "  </thead>\n",
       "  <tbody>\n",
       "    <tr>\n",
       "      <th>step</th>\n",
       "      <td>1.00</td>\n",
       "      <td>0.02</td>\n",
       "      <td>-0.01</td>\n",
       "      <td>-0.01</td>\n",
       "      <td>0.03</td>\n",
       "      <td>0.03</td>\n",
       "      <td>0.03</td>\n",
       "      <td>0.01</td>\n",
       "    </tr>\n",
       "    <tr>\n",
       "      <th>amount</th>\n",
       "      <td>0.02</td>\n",
       "      <td>1.00</td>\n",
       "      <td>0.00</td>\n",
       "      <td>-0.00</td>\n",
       "      <td>0.35</td>\n",
       "      <td>0.52</td>\n",
       "      <td>0.07</td>\n",
       "      <td>0.05</td>\n",
       "    </tr>\n",
       "    <tr>\n",
       "      <th>oldbalanceOrg</th>\n",
       "      <td>-0.01</td>\n",
       "      <td>0.00</td>\n",
       "      <td>1.00</td>\n",
       "      <td>1.00</td>\n",
       "      <td>0.06</td>\n",
       "      <td>0.04</td>\n",
       "      <td>0.01</td>\n",
       "      <td>0.01</td>\n",
       "    </tr>\n",
       "    <tr>\n",
       "      <th>newbalanceOrig</th>\n",
       "      <td>-0.01</td>\n",
       "      <td>-0.00</td>\n",
       "      <td>1.00</td>\n",
       "      <td>1.00</td>\n",
       "      <td>0.06</td>\n",
       "      <td>0.04</td>\n",
       "      <td>-0.00</td>\n",
       "      <td>0.01</td>\n",
       "    </tr>\n",
       "    <tr>\n",
       "      <th>oldbalanceDest</th>\n",
       "      <td>0.03</td>\n",
       "      <td>0.35</td>\n",
       "      <td>0.06</td>\n",
       "      <td>0.06</td>\n",
       "      <td>1.00</td>\n",
       "      <td>0.98</td>\n",
       "      <td>-0.01</td>\n",
       "      <td>-0.00</td>\n",
       "    </tr>\n",
       "    <tr>\n",
       "      <th>newbalanceDest</th>\n",
       "      <td>0.03</td>\n",
       "      <td>0.52</td>\n",
       "      <td>0.04</td>\n",
       "      <td>0.04</td>\n",
       "      <td>0.98</td>\n",
       "      <td>1.00</td>\n",
       "      <td>-0.00</td>\n",
       "      <td>-0.00</td>\n",
       "    </tr>\n",
       "    <tr>\n",
       "      <th>isFraud</th>\n",
       "      <td>0.03</td>\n",
       "      <td>0.07</td>\n",
       "      <td>0.01</td>\n",
       "      <td>-0.00</td>\n",
       "      <td>-0.01</td>\n",
       "      <td>-0.00</td>\n",
       "      <td>1.00</td>\n",
       "      <td>0.12</td>\n",
       "    </tr>\n",
       "    <tr>\n",
       "      <th>isFlaggedFraud</th>\n",
       "      <td>0.01</td>\n",
       "      <td>0.05</td>\n",
       "      <td>0.01</td>\n",
       "      <td>0.01</td>\n",
       "      <td>-0.00</td>\n",
       "      <td>-0.00</td>\n",
       "      <td>0.12</td>\n",
       "      <td>1.00</td>\n",
       "    </tr>\n",
       "  </tbody>\n",
       "</table>\n",
       "</div>"
      ],
      "text/plain": [
       "                step  amount  oldbalanceOrg  newbalanceOrig  oldbalanceDest  \\\n",
       "step            1.00    0.02          -0.01           -0.01            0.03   \n",
       "amount          0.02    1.00           0.00           -0.00            0.35   \n",
       "oldbalanceOrg  -0.01    0.00           1.00            1.00            0.06   \n",
       "newbalanceOrig -0.01   -0.00           1.00            1.00            0.06   \n",
       "oldbalanceDest  0.03    0.35           0.06            0.06            1.00   \n",
       "newbalanceDest  0.03    0.52           0.04            0.04            0.98   \n",
       "isFraud         0.03    0.07           0.01           -0.00           -0.01   \n",
       "isFlaggedFraud  0.01    0.05           0.01            0.01           -0.00   \n",
       "\n",
       "                newbalanceDest  isFraud  isFlaggedFraud  \n",
       "step                      0.03     0.03            0.01  \n",
       "amount                    0.52     0.07            0.05  \n",
       "oldbalanceOrg             0.04     0.01            0.01  \n",
       "newbalanceOrig            0.04    -0.00            0.01  \n",
       "oldbalanceDest            0.98    -0.01           -0.00  \n",
       "newbalanceDest            1.00    -0.00           -0.00  \n",
       "isFraud                  -0.00     1.00            0.12  \n",
       "isFlaggedFraud           -0.00     0.12            1.00  "
      ]
     },
     "execution_count": 12,
     "metadata": {},
     "output_type": "execute_result"
    }
   ],
   "source": [
    "# checking correlations\n",
    "round(fraud.corr(), 2) "
   ]
  },
  {
   "cell_type": "code",
   "execution_count": 13,
   "metadata": {},
   "outputs": [
    {
     "data": {
      "text/plain": [
       "0    99998\n",
       "1        2\n",
       "Name: isFlaggedFraud, dtype: int64"
      ]
     },
     "execution_count": 13,
     "metadata": {},
     "output_type": "execute_result"
    }
   ],
   "source": [
    "fraud[\"isFlaggedFraud\"].value_counts() "
   ]
  },
  {
   "cell_type": "code",
   "execution_count": 14,
   "metadata": {},
   "outputs": [
    {
     "data": {
      "text/plain": [
       "\"\\nWhat do you think will be the important features in determining the outcome?\\n    1) I'm assumin that isFraud will be the target;\\n    2) interestingly all features have next to no correlation with isFraud;\\n    3) I have no idea which would be the most important features, but at least nameOrig and\\n    nameDest don't seem to have much signal.\\n\""
      ]
     },
     "execution_count": 14,
     "metadata": {},
     "output_type": "execute_result"
    }
   ],
   "source": [
    "\"\"\"\n",
    "What do you think will be the important features in determining the outcome?\n",
    "    1) I'm assumin that isFraud will be the target;\n",
    "    2) interestingly all features have next to no correlation with isFraud;\n",
    "    3) I have no idea which would be the most important features, but at least nameOrig and\n",
    "    nameDest don't seem to have much signal.\n",
    "\"\"\""
   ]
  },
  {
   "cell_type": "markdown",
   "metadata": {},
   "source": [
    "### What is the distribution of the outcome? "
   ]
  },
  {
   "cell_type": "code",
   "execution_count": 15,
   "metadata": {},
   "outputs": [
    {
     "data": {
      "text/plain": [
       "0    0.99862\n",
       "1    0.00138\n",
       "Name: isFraud, dtype: float64"
      ]
     },
     "execution_count": 15,
     "metadata": {},
     "output_type": "execute_result"
    }
   ],
   "source": [
    "# Your response here\n",
    "# this?\n",
    "fraud[\"isFraud\"].value_counts(normalize = True)"
   ]
  },
  {
   "cell_type": "markdown",
   "metadata": {},
   "source": [
    "### Clean the dataset. How are you going to integrate the time variable? Do you think the step (integer) coding in which it is given is appropriate?"
   ]
  },
  {
   "cell_type": "code",
   "execution_count": 16,
   "metadata": {},
   "outputs": [
    {
     "data": {
      "text/plain": [
       "\"\\nDo you think the step (integer) coding in which it is given is appropriate?\\n    I don't know. I don't see why it wouldn't, but I don't know.\\n\""
      ]
     },
     "execution_count": 16,
     "metadata": {},
     "output_type": "execute_result"
    }
   ],
   "source": [
    "# Your code here\n",
    "\"\"\"\n",
    "Do you think the step (integer) coding in which it is given is appropriate?\n",
    "    I don't know. I don't see why it wouldn't, but I don't know.\n",
    "\"\"\""
   ]
  },
  {
   "cell_type": "markdown",
   "metadata": {},
   "source": [
    "### Run a logisitc regression classifier and evaluate its accuracy."
   ]
  },
  {
   "cell_type": "code",
   "execution_count": 45,
   "metadata": {},
   "outputs": [],
   "source": [
    "# Your code here\n",
    "# importing the libraries\n",
    "from sklearn.model_selection import train_test_split\n",
    "from sklearn.linear_model import LogisticRegression\n",
    "from sklearn.preprocessing import LabelEncoder, RobustScaler, StandardScaler \n",
    "from sklearn.preprocessing import PolynomialFeatures, MinMaxScaler, KBinsDiscretizer\n",
    "from sklearn.preprocessing import MultiLabelBinarizer, Normalizer, OneHotEncoder\n",
    "from sklearn.metrics import classification_report, accuracy_score"
   ]
  },
  {
   "cell_type": "code",
   "execution_count": 18,
   "metadata": {},
   "outputs": [
    {
     "name": "stdout",
     "output_type": "stream",
     "text": [
      "CPU times: user 407 ms, sys: 4.64 ms, total: 412 ms\n",
      "Wall time: 411 ms\n"
     ]
    }
   ],
   "source": [
    "%%time\n",
    "# labeling transactions type:\n",
    "le = LabelEncoder()\n",
    "label_cols = [\"type\", \"nameOrig\", \"nameDest\"]\n",
    "fraud[label_cols] = fraud[label_cols].apply(le.fit_transform)"
   ]
  },
  {
   "cell_type": "code",
   "execution_count": 31,
   "metadata": {},
   "outputs": [],
   "source": [
    "# splitting the data into target and predictors\n",
    "X = fraud.drop(labels = \"isFraud\", axis = 1)\n",
    "y = fraud[\"isFraud\"]"
   ]
  },
  {
   "cell_type": "code",
   "execution_count": 32,
   "metadata": {},
   "outputs": [],
   "source": [
    "# Scaling X\n",
    "#scaler = StandardScaler()\n",
    "#scaler.fit_transform(X)"
   ]
  },
  {
   "cell_type": "code",
   "execution_count": 33,
   "metadata": {},
   "outputs": [],
   "source": [
    "# dividing train and test\n",
    "X_train, X_test, y_train, y_test = train_test_split(X, y, test_size = 0.2)"
   ]
  },
  {
   "cell_type": "code",
   "execution_count": 34,
   "metadata": {},
   "outputs": [
    {
     "name": "stdout",
     "output_type": "stream",
     "text": [
      "CPU times: user 2.29 s, sys: 11.9 ms, total: 2.3 s\n",
      "Wall time: 391 ms\n"
     ]
    }
   ],
   "source": [
    "%%time\n",
    "# preparing and fitting the model\n",
    "lr = LogisticRegression().fit(X_train, y_train)"
   ]
  },
  {
   "cell_type": "code",
   "execution_count": 35,
   "metadata": {},
   "outputs": [
    {
     "name": "stdout",
     "output_type": "stream",
     "text": [
      "Logistic Regression Test Accuracy 1.0%\n"
     ]
    }
   ],
   "source": [
    "# accuracy score\n",
    "acc = lr.score(X_test, y_test)\n",
    "\n",
    "print(f\"Logistic Regression Test Accuracy {round(acc, 2)}%\")"
   ]
  },
  {
   "cell_type": "markdown",
   "metadata": {},
   "source": [
    "### Now pick a model of your choice and evaluate its accuracy."
   ]
  },
  {
   "cell_type": "code",
   "execution_count": 40,
   "metadata": {},
   "outputs": [],
   "source": [
    "# Your code here\n",
    "from sklearn.ensemble import RandomForestClassifier "
   ]
  },
  {
   "cell_type": "code",
   "execution_count": 41,
   "metadata": {},
   "outputs": [],
   "source": [
    "# Random Forest Prediction Model\n",
    "# creating features\n",
    "X = fraud.drop(labels = \"isFraud\", axis = 1)\n",
    "\n",
    "# creating labels\n",
    "y = fraud[\"isFraud\"]"
   ]
  },
  {
   "cell_type": "code",
   "execution_count": 42,
   "metadata": {},
   "outputs": [],
   "source": [
    "# Spliting the dataset into training set and test set\n",
    "X_train, X_test, y_train, y_test = train_test_split(X, y, test_size = 0.2)"
   ]
  },
  {
   "cell_type": "code",
   "execution_count": 43,
   "metadata": {},
   "outputs": [],
   "source": [
    "%time\n",
    "# creating a Gaussian Classifier\n",
    "clf = RandomForestClassifier(n_estimators = 100)\n",
    "\n",
    "# training the model using the training sets y_pred = clf.predict(X_test)\n",
    "clf.fit(X_train, y_train)\n",
    "\n",
    "y_pred = clf.predict(X_test)"
   ]
  },
  {
   "cell_type": "code",
   "execution_count": 46,
   "metadata": {},
   "outputs": [
    {
     "name": "stdout",
     "output_type": "stream",
     "text": [
      "Accuracy: 0.99935\n"
     ]
    }
   ],
   "source": [
    "# Model Accuracy, how often is the classifier correct?\n",
    "print(\"Accuracy:\", accuracy_score(y_test, y_pred))"
   ]
  },
  {
   "cell_type": "code",
   "execution_count": 47,
   "metadata": {
    "scrolled": true
   },
   "outputs": [
    {
     "data": {
      "text/plain": [
       "newbalanceDest    0.314661\n",
       "oldbalanceOrg     0.217417\n",
       "amount            0.145812\n",
       "step              0.082541\n",
       "oldbalanceDest    0.068059\n",
       "type              0.048088\n",
       "nameDest          0.046992\n",
       "nameOrig          0.040120\n",
       "newbalanceOrig    0.027057\n",
       "isFlaggedFraud    0.009253\n",
       "dtype: float64"
      ]
     },
     "execution_count": 47,
     "metadata": {},
     "output_type": "execute_result"
    }
   ],
   "source": [
    "# checking the importance of the features to predict\n",
    "feature_imp = pd.Series(clf.feature_importances_, index = X.columns).sort_values(ascending = False)\n",
    "feature_imp"
   ]
  },
  {
   "cell_type": "code",
   "execution_count": 49,
   "metadata": {},
   "outputs": [
    {
     "data": {
      "image/png": "[encoded data removed]",
      "text/plain": [
       "<Figure size 432x288 with 1 Axes>"
      ]
     },
     "metadata": {},
     "output_type": "display_data"
    }
   ],
   "source": [
    "# Creating a bar plot\n",
    "sns.set()\n",
    "sns.set_style(\"whitegrid\")\n",
    "sns.barplot(x = feature_imp, y = feature_imp.index)\n",
    "sns.despine()\n",
    "\n",
    "# Adding labels to graph\n",
    "plt.xlabel(\"Feature Importance Score\")\n",
    "plt.ylabel(\"Features\")\n",
    "plt.title(\"Visualizing Important Features\")\n",
    "#plt.legend()\n",
    "plt.show()"
   ]
  },
  {
   "cell_type": "markdown",
   "metadata": {},
   "source": [
    "### Which model worked better and how do you know?"
   ]
  },
  {
   "cell_type": "code",
   "execution_count": 51,
   "metadata": {},
   "outputs": [
    {
     "data": {
      "text/plain": [
       "'\\nI\\'m highly suspicious of both scores. That said:\\n\\n«Precision is a good measure to select the \"best\" model, when the costs of False Positive is\\nhigh. \\n\\n(...)\\n\\nRecall shall be the model metric we use to select our best model when there is a high cost \\nassociated with False Negative.\\n\\nFor instance, in fraud detection or sick patient detection. If a fraudulent transaction \\n(Actual Positive) is predicted as non-fraudulent (Predicted Negative), the consequence can \\nbe very bad for the bank.\\n\\n(...)\\n\\nF1 Score might be a better measure to use if we need to seek a balance between Precision and \\nRecall AND there is an uneven class distribution (large number of Actual Negatives).\\n\\n(...)\\n\\nIf you cannot decide or thinks that its best to reduce both, False Negatives and False \\nPositives then choose F1.»\\n\\nAs such, judging from this, Recall or F1 seem to be the better measures to choose a model \\n(and not accuracy or precision).\\n\\nSource:\\nhttps://koopingshung.com/blog/machine-learning-model-selection-accuracy-precision-recall-f1/\\n'"
      ]
     },
     "execution_count": 51,
     "metadata": {},
     "output_type": "execute_result"
    }
   ],
   "source": [
    "# Your response here\n",
    "\"\"\"\n",
    "I'm highly suspicious of both scores. That said:\n",
    "\n",
    "«Precision is a good measure to select the \"best\" model, when the costs of False Positive is\n",
    "high. \n",
    "\n",
    "(...)\n",
    "\n",
    "Recall shall be the model metric we use to select our best model when there is a high cost \n",
    "associated with False Negative.\n",
    "\n",
    "For instance, in fraud detection or sick patient detection. If a fraudulent transaction \n",
    "(Actual Positive) is predicted as non-fraudulent (Predicted Negative), the consequence can \n",
    "be very bad for the bank.\n",
    "\n",
    "(...)\n",
    "\n",
    "F1 Score might be a better measure to use if we need to seek a balance between Precision and \n",
    "Recall AND there is an uneven class distribution (large number of Actual Negatives).\n",
    "\n",
    "(...)\n",
    "\n",
    "If you cannot decide or thinks that its best to reduce both, False Negatives and False \n",
    "Positives then choose F1.»\n",
    "\n",
    "As such, judging from this, Recall or F1 seem to be the better measures to choose a model \n",
    "(and not accuracy or precision).\n",
    "\n",
    "Source:\n",
    "https://koopingshung.com/blog/machine-learning-model-selection-accuracy-precision-recall-f1/\n",
    "\"\"\""
   ]
  },
  {
   "cell_type": "markdown",
   "metadata": {},
   "source": [
    "### Note: before doing the first commit, make sure you don't include the large csv file, either by adding it to .gitignore, or by deleting it."
   ]
  }
 ],
 "metadata": {
  "kernelspec": {
   "display_name": "Python 3",
   "language": "python",
   "name": "python3"
  },
  "language_info": {
   "codemirror_mode": {
    "name": "ipython",
    "version": 3
   },
   "file_extension": ".py",
   "mimetype": "text/x-python",
   "name": "python",
   "nbconvert_exporter": "python",
   "pygments_lexer": "ipython3",
   "version": "3.7.6"
  }
 },
 "nbformat": 4,
 "nbformat_minor": 2
}
